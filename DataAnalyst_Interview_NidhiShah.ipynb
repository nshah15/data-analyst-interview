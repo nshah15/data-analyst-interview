{
 "cells": [
  {
   "cell_type": "markdown",
   "metadata": {},
   "source": [
    "## Connectwise - Data Analyst Interview\n",
    "#### Nidhi Shah"
   ]
  },
  {
   "cell_type": "markdown",
   "metadata": {},
   "source": [
    "## Read and check csv file"
   ]
  },
  {
   "cell_type": "markdown",
   "metadata": {},
   "source": [
    "### Imports"
   ]
  },
  {
   "cell_type": "code",
   "execution_count": 1,
   "metadata": {},
   "outputs": [
    {
     "name": "stderr",
     "output_type": "stream",
    }
   ],
   "source": [
    "import numpy as np\n",
    "import pandas as pd\n",
    "import seaborn as sns\n",
    "import matplotlib.pyplot as plt\n",
    "from scipy import stats\n",
    "import io\n",
    "import requests\n",
    "from sklearn.linear_model import LinearRegression\n",
    "from sklearn import metrics\n",
    "from sklearn.cross_validation import train_test_split\n",
    "from sklearn.metrics import mean_absolute_error, mean_squared_error, r2_score"
   ]
  },
  {
   "cell_type": "markdown",
   "metadata": {},
   "source": [
    "### Read csv file into Pandas Dataframe from url"
   ]
  },
  {
   "cell_type": "code",
   "execution_count": 2,
   "metadata": {},
   "outputs": [
    {
     "name": "stderr",
     "output_type": "stream",
    }
   ],
   "source": [
    "url='https://s3.amazonaws.com/cc-analytics-datasets/Building_Permits.csv'\n",
    "s=requests.get(url).content\n",
    "df=pd.read_csv(io.StringIO(s.decode('utf-8')))"
   ]
  },
  {
   "cell_type": "markdown",
   "metadata": {},
   "source": [
    "### Check if dataframe was loaded correctly"
   ]
  },
  {
   "cell_type": "code",
   "execution_count": 3,
   "metadata": {},
   "outputs": [
    {
     "data": {
      "text/html": [
       "<div>\n",
       "<style scoped>\n",
       "    .dataframe tbody tr th:only-of-type {\n",
       "        vertical-align: middle;\n",
       "    }\n",
       "\n",
       "    .dataframe tbody tr th {\n",
       "        vertical-align: top;\n",
       "    }\n",
       "\n",
       "    .dataframe thead th {\n",
       "        text-align: right;\n",
       "    }\n",
       "</style>\n",
       "<table border=\"1\" class=\"dataframe\">\n",
       "  <thead>\n",
       "    <tr style=\"text-align: right;\">\n",
       "      <th></th>\n",
       "      <th>X</th>\n",
       "      <th>Y</th>\n",
       "      <th>OBJECTID</th>\n",
       "      <th>permittypemapped</th>\n",
       "      <th>permitnum</th>\n",
       "      <th>workclass</th>\n",
       "      <th>permitclass</th>\n",
       "      <th>proposedworkdescription</th>\n",
       "      <th>permitclassmapped</th>\n",
       "      <th>applieddate</th>\n",
       "      <th>...</th>\n",
       "      <th>totalsqft</th>\n",
       "      <th>voiddate</th>\n",
       "      <th>workclassmapped</th>\n",
       "      <th>GlobalID</th>\n",
       "      <th>CreationDate</th>\n",
       "      <th>Creator</th>\n",
       "      <th>EditDate</th>\n",
       "      <th>Editor</th>\n",
       "      <th>const_type</th>\n",
       "      <th>occupancyclass</th>\n",
       "    </tr>\n",
       "  </thead>\n",
       "  <tbody>\n",
       "    <tr>\n",
       "      <th>0</th>\n",
       "      <td>-78.734835</td>\n",
       "      <td>35.903045</td>\n",
       "      <td>48520</td>\n",
       "      <td>Building</td>\n",
       "      <td>147303</td>\n",
       "      <td>Alterations/repairs</td>\n",
       "      <td>434.0</td>\n",
       "      <td>REPAIR FIRE DAMAGE</td>\n",
       "      <td>Residential</td>\n",
       "      <td>2018-03-02T18:12:31.000Z</td>\n",
       "      <td>...</td>\n",
       "      <td>2064.0</td>\n",
       "      <td>NaN</td>\n",
       "      <td>Existing</td>\n",
       "      <td>e94cf493-fe7f-49d6-927f-b6127a3435b6</td>\n",
       "      <td>2018-03-16T01:55:55.663Z</td>\n",
       "      <td>justin.greco@raleighnc.gov_ral</td>\n",
       "      <td>2018-06-15T22:03:10.675Z</td>\n",
       "      <td>OpenData_ral</td>\n",
       "      <td>V  B</td>\n",
       "      <td>RESIDENT 3  SFD/DUP</td>\n",
       "    </tr>\n",
       "    <tr>\n",
       "      <th>1</th>\n",
       "      <td>-78.534184</td>\n",
       "      <td>35.729309</td>\n",
       "      <td>48521</td>\n",
       "      <td>Building</td>\n",
       "      <td>147288</td>\n",
       "      <td>New Building</td>\n",
       "      <td>101.0</td>\n",
       "      <td>SFD</td>\n",
       "      <td>Residential</td>\n",
       "      <td>2018-03-02T15:16:37.000Z</td>\n",
       "      <td>...</td>\n",
       "      <td>1684.0</td>\n",
       "      <td>NaN</td>\n",
       "      <td>New</td>\n",
       "      <td>f114dc19-3b62-459b-bd6c-9084162403c8</td>\n",
       "      <td>2018-03-16T01:55:55.663Z</td>\n",
       "      <td>justin.greco@raleighnc.gov_ral</td>\n",
       "      <td>2018-06-12T22:02:31.949Z</td>\n",
       "      <td>OpenData_ral</td>\n",
       "      <td>V  B</td>\n",
       "      <td>RESIDENT 3  SFD/DUP</td>\n",
       "    </tr>\n",
       "    <tr>\n",
       "      <th>2</th>\n",
       "      <td>-78.534323</td>\n",
       "      <td>35.728595</td>\n",
       "      <td>48522</td>\n",
       "      <td>Building</td>\n",
       "      <td>147287</td>\n",
       "      <td>New Building</td>\n",
       "      <td>101.0</td>\n",
       "      <td>SFD</td>\n",
       "      <td>Residential</td>\n",
       "      <td>2018-03-02T15:08:25.000Z</td>\n",
       "      <td>...</td>\n",
       "      <td>2378.0</td>\n",
       "      <td>NaN</td>\n",
       "      <td>New</td>\n",
       "      <td>d4b182cb-af25-4c3f-92a9-a59d4b82ada3</td>\n",
       "      <td>2018-03-16T01:55:55.663Z</td>\n",
       "      <td>justin.greco@raleighnc.gov_ral</td>\n",
       "      <td>2018-06-13T22:02:40.102Z</td>\n",
       "      <td>OpenData_ral</td>\n",
       "      <td>V  B</td>\n",
       "      <td>RESIDENT 3  SFD/DUP</td>\n",
       "    </tr>\n",
       "    <tr>\n",
       "      <th>3</th>\n",
       "      <td>-78.531789</td>\n",
       "      <td>35.729794</td>\n",
       "      <td>48523</td>\n",
       "      <td>Building</td>\n",
       "      <td>147286</td>\n",
       "      <td>New Building</td>\n",
       "      <td>101.0</td>\n",
       "      <td>NEW SFD</td>\n",
       "      <td>Residential</td>\n",
       "      <td>2018-03-02T15:00:47.000Z</td>\n",
       "      <td>...</td>\n",
       "      <td>1392.0</td>\n",
       "      <td>NaN</td>\n",
       "      <td>New</td>\n",
       "      <td>ecc76e8c-48d3-4529-a7ae-f1d616592c08</td>\n",
       "      <td>2018-03-16T01:55:55.663Z</td>\n",
       "      <td>justin.greco@raleighnc.gov_ral</td>\n",
       "      <td>2018-06-27T22:02:34.320Z</td>\n",
       "      <td>OpenData_ral</td>\n",
       "      <td>V  B</td>\n",
       "      <td>RESIDENT 3  SFD/DUP</td>\n",
       "    </tr>\n",
       "    <tr>\n",
       "      <th>4</th>\n",
       "      <td>-78.533914</td>\n",
       "      <td>35.729473</td>\n",
       "      <td>48524</td>\n",
       "      <td>Building</td>\n",
       "      <td>147284</td>\n",
       "      <td>New Building</td>\n",
       "      <td>101.0</td>\n",
       "      <td>NEW SFD</td>\n",
       "      <td>Residential</td>\n",
       "      <td>2018-03-02T14:32:33.000Z</td>\n",
       "      <td>...</td>\n",
       "      <td>1392.0</td>\n",
       "      <td>NaN</td>\n",
       "      <td>New</td>\n",
       "      <td>a1074b43-bc40-4efa-bc7f-a167c351c327</td>\n",
       "      <td>2018-03-16T01:55:55.663Z</td>\n",
       "      <td>justin.greco@raleighnc.gov_ral</td>\n",
       "      <td>2018-06-12T22:02:31.949Z</td>\n",
       "      <td>OpenData_ral</td>\n",
       "      <td>V  B</td>\n",
       "      <td>RESIDENT 3  SFD/DUP</td>\n",
       "    </tr>\n",
       "  </tbody>\n",
       "</table>\n",
       "<p>5 rows × 87 columns</p>\n",
       "</div>"
      ],
      "text/plain": [
       "           X          Y  OBJECTID permittypemapped  permitnum  \\\n",
       "0 -78.734835  35.903045     48520         Building     147303   \n",
       "1 -78.534184  35.729309     48521         Building     147288   \n",
       "2 -78.534323  35.728595     48522         Building     147287   \n",
       "3 -78.531789  35.729794     48523         Building     147286   \n",
       "4 -78.533914  35.729473     48524         Building     147284   \n",
       "\n",
       "             workclass  permitclass proposedworkdescription permitclassmapped  \\\n",
       "0  Alterations/repairs        434.0      REPAIR FIRE DAMAGE       Residential   \n",
       "1         New Building        101.0                     SFD       Residential   \n",
       "2         New Building        101.0                     SFD       Residential   \n",
       "3         New Building        101.0                 NEW SFD       Residential   \n",
       "4         New Building        101.0                 NEW SFD       Residential   \n",
       "\n",
       "                applieddate         ...          totalsqft  voiddate  \\\n",
       "0  2018-03-02T18:12:31.000Z         ...             2064.0       NaN   \n",
       "1  2018-03-02T15:16:37.000Z         ...             1684.0       NaN   \n",
       "2  2018-03-02T15:08:25.000Z         ...             2378.0       NaN   \n",
       "3  2018-03-02T15:00:47.000Z         ...             1392.0       NaN   \n",
       "4  2018-03-02T14:32:33.000Z         ...             1392.0       NaN   \n",
       "\n",
       "  workclassmapped                              GlobalID  \\\n",
       "0        Existing  e94cf493-fe7f-49d6-927f-b6127a3435b6   \n",
       "1             New  f114dc19-3b62-459b-bd6c-9084162403c8   \n",
       "2             New  d4b182cb-af25-4c3f-92a9-a59d4b82ada3   \n",
       "3             New  ecc76e8c-48d3-4529-a7ae-f1d616592c08   \n",
       "4             New  a1074b43-bc40-4efa-bc7f-a167c351c327   \n",
       "\n",
       "               CreationDate                         Creator  \\\n",
       "0  2018-03-16T01:55:55.663Z  justin.greco@raleighnc.gov_ral   \n",
       "1  2018-03-16T01:55:55.663Z  justin.greco@raleighnc.gov_ral   \n",
       "2  2018-03-16T01:55:55.663Z  justin.greco@raleighnc.gov_ral   \n",
       "3  2018-03-16T01:55:55.663Z  justin.greco@raleighnc.gov_ral   \n",
       "4  2018-03-16T01:55:55.663Z  justin.greco@raleighnc.gov_ral   \n",
       "\n",
       "                   EditDate        Editor const_type       occupancyclass  \n",
       "0  2018-06-15T22:03:10.675Z  OpenData_ral       V  B  RESIDENT 3  SFD/DUP  \n",
       "1  2018-06-12T22:02:31.949Z  OpenData_ral       V  B  RESIDENT 3  SFD/DUP  \n",
       "2  2018-06-13T22:02:40.102Z  OpenData_ral       V  B  RESIDENT 3  SFD/DUP  \n",
       "3  2018-06-27T22:02:34.320Z  OpenData_ral       V  B  RESIDENT 3  SFD/DUP  \n",
       "4  2018-06-12T22:02:31.949Z  OpenData_ral       V  B  RESIDENT 3  SFD/DUP  \n",
       "\n",
       "[5 rows x 87 columns]"
      ]
     },
     "execution_count": 3,
     "metadata": {},
     "output_type": "execute_result"
    }
   ],
   "source": [
    "df.head()"
   ]
  },
  {
   "cell_type": "markdown",
   "metadata": {},
   "source": [
    "## Summary Statistics"
   ]
  },
  {
   "cell_type": "markdown",
   "metadata": {},
   "source": [
    "### 1. Find out number of rows and columns in the dataset"
   ]
  },
  {
   "cell_type": "code",
   "execution_count": 4,
   "metadata": {},
   "outputs": [
    {
     "name": "stdout",
     "output_type": "stream",
     "text": [
      "Number of rows in dataset: 141953\n"
     ]
    }
   ],
   "source": [
    "rows = df.shape[0]\n",
    "print ('Number of rows in dataset: ' + str(rows))"
   ]
  },
  {
   "cell_type": "code",
   "execution_count": 5,
   "metadata": {},
   "outputs": [
    {
     "name": "stdout",
     "output_type": "stream",
     "text": [
      "Number of columns in dataset: 87\n"
     ]
    }
   ],
   "source": [
    "cols = df.shape[1]\n",
    "print ('Number of columns in dataset: ' + str(cols))"
   ]
  },
  {
   "cell_type": "markdown",
   "metadata": {},
   "source": [
    "### 2. Total different types of construction"
   ]
  },
  {
   "cell_type": "markdown",
   "metadata": {},
   "source": [
    "#### To get the total different types of construction, we will have to look at the const_type variable"
   ]
  },
  {
   "cell_type": "code",
   "execution_count": 6,
   "metadata": {},
   "outputs": [],
   "source": [
    "const_types = list(df.const_type.unique())"
   ]
  },
  {
   "cell_type": "code",
   "execution_count": 7,
   "metadata": {},
   "outputs": [
    {
     "data": {
      "text/plain": [
       "['V  B',\n",
       " nan,\n",
       " 'II B',\n",
       " 'II A',\n",
       " 'IIIB',\n",
       " 'I  A',\n",
       " 'I  B',\n",
       " 'IV',\n",
       " 'V  A',\n",
       " 'IV U',\n",
       " 'VI U',\n",
       " 'V  U',\n",
       " 'VI P',\n",
       " 'V  P',\n",
       " 'IIIA',\n",
       " 'I',\n",
       " 'III',\n",
       " 'II',\n",
       " 'IV P']"
      ]
     },
     "execution_count": 7,
     "metadata": {},
     "output_type": "execute_result"
    }
   ],
   "source": [
    "const_types"
   ]
  },
  {
   "cell_type": "markdown",
   "metadata": {},
   "source": [
    "#### As we can see above, the list of different types of constructions has a nan value. So to get the total different types of construction, we would have to subtract 1 for the list length"
   ]
  },
  {
   "cell_type": "code",
   "execution_count": 8,
   "metadata": {},
   "outputs": [
    {
     "name": "stdout",
     "output_type": "stream",
     "text": [
      "The different construction types are: 18\n"
     ]
    }
   ],
   "source": [
    "no_diff_const = (len(const_types) - 1)\n",
    "print('The different construction types are: ' + str(no_diff_const))"
   ]
  },
  {
   "cell_type": "markdown",
   "metadata": {},
   "source": [
    "### 3. Mean and median number of stories"
   ]
  },
  {
   "cell_type": "code",
   "execution_count": 9,
   "metadata": {},
   "outputs": [
    {
     "name": "stdout",
     "output_type": "stream",
     "text": [
      "Mean of number of stories = 9.70742065631\n"
     ]
    }
   ],
   "source": [
    "mean = df.numberstories.describe()[1]\n",
    "print('Mean of number of stories = '+ str(mean))"
   ]
  },
  {
   "cell_type": "code",
   "execution_count": 10,
   "metadata": {},
   "outputs": [
    {
     "name": "stdout",
     "output_type": "stream",
     "text": [
      "Median of number of stories = 2.0\n"
     ]
    }
   ],
   "source": [
    "median = df.numberstories.describe()[5]\n",
    "print('Median of number of stories = '+ str(median))"
   ]
  },
  {
   "cell_type": "code",
   "execution_count": 11,
   "metadata": {},
   "outputs": [
    {
     "data": {
      "text/plain": [
       "count    122442.000000\n",
       "mean          9.707421\n",
       "std        1114.892012\n",
       "min           0.000000\n",
       "25%           1.000000\n",
       "50%           2.000000\n",
       "75%           2.000000\n",
       "max      342365.000000\n",
       "Name: numberstories, dtype: float64"
      ]
     },
     "execution_count": 11,
     "metadata": {},
     "output_type": "execute_result"
    }
   ],
   "source": [
    "df.numberstories.describe()"
   ]
  },
  {
   "cell_type": "markdown",
   "metadata": {},
   "source": [
    "### 4. Standard deviation for the X and Y coordinates of the permits"
   ]
  },
  {
   "cell_type": "code",
   "execution_count": 12,
   "metadata": {},
   "outputs": [
    {
     "name": "stdout",
     "output_type": "stream",
     "text": [
      "The standard deviations for the X and Y coordinates of the permits are 0.0583920750027 and 0.0688053361904 respectively.\n"
     ]
    }
   ],
   "source": [
    "# I am going to assume that the X co-ordinate is the Latitude and the Y co-ordinate is the Longitude of the Permits instead of using the X and Y variables in the dataset\n",
    "std_x = df.latitude_perm.describe()[2]\n",
    "std_y = df.longitude_perm.describe()[2]\n",
    "print('The standard deviations for the X and Y coordinates of the permits are '+str(std_x)+' and '+str(std_y)+' respectively.')"
   ]
  },
  {
   "cell_type": "markdown",
   "metadata": {},
   "source": [
    "## Plot distributions:"
   ]
  },
  {
   "cell_type": "markdown",
   "metadata": {},
   "source": [
    "### 1. Estimated Project Cost"
   ]
  },
  {
   "cell_type": "markdown",
   "metadata": {},
   "source": [
    "#### Creating a histogram of estimated project cost"
   ]
  },
  {
   "cell_type": "code",
   "execution_count": 13,
   "metadata": {},
   "outputs": [
    {
     "data": {
      "text/plain": [
       "array([[<matplotlib.axes._subplots.AxesSubplot object at 0x7f5225ab9080>]], dtype=object)"
      ]
     },
     "execution_count": 13,
     "metadata": {},
     "output_type": "execute_result"
    },
    {
     "data": {
      "image/png": "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\n",
      "text/plain": [
       "<Figure size 432x288 with 1 Axes>"
      ]
     },
     "metadata": {
      "needs_background": "light"
     },
     "output_type": "display_data"
    }
   ],
   "source": [
    "df.hist(column='estprojectcost', bins=50, color='gray')"
   ]
  },
  {
   "cell_type": "markdown",
   "metadata": {},
   "source": [
    "#### As seen above, a simple histogram does not give us much information about the Estimated Project Cost\n",
    "#### So let's go ahead and describe the variable to learn more about it"
   ]
  },
  {
   "cell_type": "code",
   "execution_count": 14,
   "metadata": {},
   "outputs": [
    {
     "data": {
      "text/plain": [
       "count    1.419530e+05\n",
       "mean     1.920127e+05\n",
       "std      1.493678e+06\n",
       "min      0.000000e+00\n",
       "25%      1.000000e+04\n",
       "50%      5.440400e+04\n",
       "75%      1.350000e+05\n",
       "max      1.700000e+08\n",
       "Name: estprojectcost, dtype: float64"
      ]
     },
     "execution_count": 14,
     "metadata": {},
     "output_type": "execute_result"
    }
   ],
   "source": [
    "df.estprojectcost.describe()"
   ]
  },
  {
   "cell_type": "markdown",
   "metadata": {},
   "source": [
    "#### From the standard deviation we can see that the values for this column are quite spread out (mostly away from the mean). We can plot a boxplot to look at the spread of values"
   ]
  },
  {
   "cell_type": "code",
   "execution_count": 15,
   "metadata": {},
   "outputs": [
    {
     "data": {
      "text/plain": [
       "<matplotlib.axes._subplots.AxesSubplot at 0x7f5225a7bfd0>"
      ]
     },
     "execution_count": 15,
     "metadata": {},
     "output_type": "execute_result"
    },
    {
     "data": {
      "image/png": "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\n",
      "text/plain": [
       "<Figure size 432x288 with 1 Axes>"
      ]
     },
     "metadata": {
      "needs_background": "light"
     },
     "output_type": "display_data"
    }
   ],
   "source": [
    "sns.boxplot(x=df['estprojectcost'])"
   ]
  },
  {
   "cell_type": "markdown",
   "metadata": {},
   "source": [
    "#### From the boxplot we can see that most of the values for Estimated Project Cost are within the 1st quartile and the median. Thus limiting the range of the histogram will better explain the spread of values for the column"
   ]
  },
  {
   "cell_type": "code",
   "execution_count": 16,
   "metadata": {
    "scrolled": true
   },
   "outputs": [
    {
     "data": {
      "image/png": "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\n",
      "text/plain": [
       "<Figure size 432x288 with 1 Axes>"
      ]
     },
     "metadata": {
      "needs_background": "light"
     },
     "output_type": "display_data"
    }
   ],
   "source": [
    "estprojectcost_hist = df.hist(column='estprojectcost', bins=50, range = [0,1.350000e+05], color='gray')"
   ]
  },
  {
   "cell_type": "markdown",
   "metadata": {},
   "source": [
    "#### Seeing that most of the values are concentrated in the !st Quartile, for deeper analysis, we can plot an histogram of the minimum value to the 1st Quartile."
   ]
  },
  {
   "cell_type": "code",
   "execution_count": 17,
   "metadata": {},
   "outputs": [
    {
     "data": {
      "text/plain": [
       "array([[<matplotlib.axes._subplots.AxesSubplot object at 0x7f5225b5b128>]], dtype=object)"
      ]
     },
     "execution_count": 17,
     "metadata": {},
     "output_type": "execute_result"
    },
    {
     "data": {
      "image/png": "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\n",
      "text/plain": [
       "<Figure size 432x288 with 1 Axes>"
      ]
     },
     "metadata": {
      "needs_background": "light"
     },
     "output_type": "display_data"
    }
   ],
   "source": [
    "df.hist(column='estprojectcost', bins=50, range = [0,1.000000e+04], color='gray')"
   ]
  },
  {
   "cell_type": "markdown",
   "metadata": {},
   "source": [
    "#### We can see that we have a lot of 0 values for Estimated Project Costs. Maybe 0 was entered where data was missing or where estimated project cost was unknown."
   ]
  },
  {
   "cell_type": "markdown",
   "metadata": {},
   "source": [
    "### 2. Issue Date Month"
   ]
  },
  {
   "cell_type": "markdown",
   "metadata": {},
   "source": [
    "#### Moving on to the next feature, we now create a histogram of the Issued Date Month feature"
   ]
  },
  {
   "cell_type": "code",
   "execution_count": 18,
   "metadata": {},
   "outputs": [
    {
     "data": {
      "text/plain": [
       "<matplotlib.axes._subplots.AxesSubplot at 0x7f52258c6ef0>"
      ]
     },
     "execution_count": 18,
     "metadata": {},
     "output_type": "execute_result"
    },
    {
     "data": {
      "image/png": "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\n",
      "text/plain": [
       "<Figure size 432x288 with 1 Axes>"
      ]
     },
     "metadata": {
      "needs_background": "light"
     },
     "output_type": "display_data"
    }
   ],
   "source": [
    "sns.countplot(df['issueddate_mth'], color='gray')"
   ]
  },
  {
   "cell_type": "markdown",
   "metadata": {},
   "source": [
    "#### From the above histogram we see that the number of permits issued was low between the months of November and February and maximum permits were issued in the month of June. Another way to look as the permits issued per month in descending order is:"
   ]
  },
  {
   "cell_type": "code",
   "execution_count": 19,
   "metadata": {},
   "outputs": [
    {
     "data": {
      "text/plain": [
       "<matplotlib.axes._subplots.AxesSubplot at 0x7f5225a20828>"
      ]
     },
     "execution_count": 19,
     "metadata": {},
     "output_type": "execute_result"
    },
    {
     "data": {
      "image/png": "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\n",
      "text/plain": [
       "<Figure size 432x288 with 1 Axes>"
      ]
     },
     "metadata": {
      "needs_background": "light"
     },
     "output_type": "display_data"
    }
   ],
   "source": [
    "df['issueddate_mth'].value_counts().plot(kind='bar', color='gray')"
   ]
  },
  {
   "cell_type": "markdown",
   "metadata": {},
   "source": [
    "#### From the above plot we can see that the highest number permits were issued in June followed by May, August, April, July, March, September, and October; while the least number of permist issued in December followed by November, February, and January."
   ]
  },
  {
   "cell_type": "markdown",
   "metadata": {},
   "source": [
    "##  Relationship between Permit Issue Year and Estimated Project Cost"
   ]
  },
  {
   "cell_type": "markdown",
   "metadata": {},
   "source": [
    "### We want to understand the relationship between Permit Issue Year and Estimated Project Cost,  but only for \"New\" construction of type \"V B\" with less than 3 stories. Thus we will filter the dataset based on these values"
   ]
  },
  {
   "cell_type": "code",
   "execution_count": 20,
   "metadata": {},
   "outputs": [
    {
     "data": {
      "text/html": [
       "<div>\n",
       "<style scoped>\n",
       "    .dataframe tbody tr th:only-of-type {\n",
       "        vertical-align: middle;\n",
       "    }\n",
       "\n",
       "    .dataframe tbody tr th {\n",
       "        vertical-align: top;\n",
       "    }\n",
       "\n",
       "    .dataframe thead th {\n",
       "        text-align: right;\n",
       "    }\n",
       "</style>\n",
       "<table border=\"1\" class=\"dataframe\">\n",
       "  <thead>\n",
       "    <tr style=\"text-align: right;\">\n",
       "      <th></th>\n",
       "      <th>X</th>\n",
       "      <th>Y</th>\n",
       "      <th>OBJECTID</th>\n",
       "      <th>permittypemapped</th>\n",
       "      <th>permitnum</th>\n",
       "      <th>workclass</th>\n",
       "      <th>permitclass</th>\n",
       "      <th>proposedworkdescription</th>\n",
       "      <th>permitclassmapped</th>\n",
       "      <th>applieddate</th>\n",
       "      <th>...</th>\n",
       "      <th>totalsqft</th>\n",
       "      <th>voiddate</th>\n",
       "      <th>workclassmapped</th>\n",
       "      <th>GlobalID</th>\n",
       "      <th>CreationDate</th>\n",
       "      <th>Creator</th>\n",
       "      <th>EditDate</th>\n",
       "      <th>Editor</th>\n",
       "      <th>const_type</th>\n",
       "      <th>occupancyclass</th>\n",
       "    </tr>\n",
       "  </thead>\n",
       "  <tbody>\n",
       "    <tr>\n",
       "      <th>1</th>\n",
       "      <td>-78.534184</td>\n",
       "      <td>35.729309</td>\n",
       "      <td>48521</td>\n",
       "      <td>Building</td>\n",
       "      <td>147288</td>\n",
       "      <td>New Building</td>\n",
       "      <td>101.0</td>\n",
       "      <td>SFD</td>\n",
       "      <td>Residential</td>\n",
       "      <td>2018-03-02T15:16:37.000Z</td>\n",
       "      <td>...</td>\n",
       "      <td>1684.0</td>\n",
       "      <td>NaN</td>\n",
       "      <td>New</td>\n",
       "      <td>f114dc19-3b62-459b-bd6c-9084162403c8</td>\n",
       "      <td>2018-03-16T01:55:55.663Z</td>\n",
       "      <td>justin.greco@raleighnc.gov_ral</td>\n",
       "      <td>2018-06-12T22:02:31.949Z</td>\n",
       "      <td>OpenData_ral</td>\n",
       "      <td>V  B</td>\n",
       "      <td>RESIDENT 3  SFD/DUP</td>\n",
       "    </tr>\n",
       "    <tr>\n",
       "      <th>2</th>\n",
       "      <td>-78.534323</td>\n",
       "      <td>35.728595</td>\n",
       "      <td>48522</td>\n",
       "      <td>Building</td>\n",
       "      <td>147287</td>\n",
       "      <td>New Building</td>\n",
       "      <td>101.0</td>\n",
       "      <td>SFD</td>\n",
       "      <td>Residential</td>\n",
       "      <td>2018-03-02T15:08:25.000Z</td>\n",
       "      <td>...</td>\n",
       "      <td>2378.0</td>\n",
       "      <td>NaN</td>\n",
       "      <td>New</td>\n",
       "      <td>d4b182cb-af25-4c3f-92a9-a59d4b82ada3</td>\n",
       "      <td>2018-03-16T01:55:55.663Z</td>\n",
       "      <td>justin.greco@raleighnc.gov_ral</td>\n",
       "      <td>2018-06-13T22:02:40.102Z</td>\n",
       "      <td>OpenData_ral</td>\n",
       "      <td>V  B</td>\n",
       "      <td>RESIDENT 3  SFD/DUP</td>\n",
       "    </tr>\n",
       "    <tr>\n",
       "      <th>3</th>\n",
       "      <td>-78.531789</td>\n",
       "      <td>35.729794</td>\n",
       "      <td>48523</td>\n",
       "      <td>Building</td>\n",
       "      <td>147286</td>\n",
       "      <td>New Building</td>\n",
       "      <td>101.0</td>\n",
       "      <td>NEW SFD</td>\n",
       "      <td>Residential</td>\n",
       "      <td>2018-03-02T15:00:47.000Z</td>\n",
       "      <td>...</td>\n",
       "      <td>1392.0</td>\n",
       "      <td>NaN</td>\n",
       "      <td>New</td>\n",
       "      <td>ecc76e8c-48d3-4529-a7ae-f1d616592c08</td>\n",
       "      <td>2018-03-16T01:55:55.663Z</td>\n",
       "      <td>justin.greco@raleighnc.gov_ral</td>\n",
       "      <td>2018-06-27T22:02:34.320Z</td>\n",
       "      <td>OpenData_ral</td>\n",
       "      <td>V  B</td>\n",
       "      <td>RESIDENT 3  SFD/DUP</td>\n",
       "    </tr>\n",
       "    <tr>\n",
       "      <th>4</th>\n",
       "      <td>-78.533914</td>\n",
       "      <td>35.729473</td>\n",
       "      <td>48524</td>\n",
       "      <td>Building</td>\n",
       "      <td>147284</td>\n",
       "      <td>New Building</td>\n",
       "      <td>101.0</td>\n",
       "      <td>NEW SFD</td>\n",
       "      <td>Residential</td>\n",
       "      <td>2018-03-02T14:32:33.000Z</td>\n",
       "      <td>...</td>\n",
       "      <td>1392.0</td>\n",
       "      <td>NaN</td>\n",
       "      <td>New</td>\n",
       "      <td>a1074b43-bc40-4efa-bc7f-a167c351c327</td>\n",
       "      <td>2018-03-16T01:55:55.663Z</td>\n",
       "      <td>justin.greco@raleighnc.gov_ral</td>\n",
       "      <td>2018-06-12T22:02:31.949Z</td>\n",
       "      <td>OpenData_ral</td>\n",
       "      <td>V  B</td>\n",
       "      <td>RESIDENT 3  SFD/DUP</td>\n",
       "    </tr>\n",
       "    <tr>\n",
       "      <th>9</th>\n",
       "      <td>-78.594252</td>\n",
       "      <td>35.909492</td>\n",
       "      <td>48529</td>\n",
       "      <td>Building</td>\n",
       "      <td>147194</td>\n",
       "      <td>New Building</td>\n",
       "      <td>318.0</td>\n",
       "      <td>PAVILLION NEAR POOL, GRILLS, SEATING</td>\n",
       "      <td>Residential</td>\n",
       "      <td>2018-02-27T21:31:37.000Z</td>\n",
       "      <td>...</td>\n",
       "      <td>504.0</td>\n",
       "      <td>NaN</td>\n",
       "      <td>New</td>\n",
       "      <td>39eb46ff-e7d2-4c23-95f8-71c4f67b3924</td>\n",
       "      <td>2018-03-16T01:55:55.663Z</td>\n",
       "      <td>justin.greco@raleighnc.gov_ral</td>\n",
       "      <td>2018-04-23T19:46:09.547Z</td>\n",
       "      <td>OpenData_ral</td>\n",
       "      <td>V  B</td>\n",
       "      <td>ASSEMBLY 3</td>\n",
       "    </tr>\n",
       "  </tbody>\n",
       "</table>\n",
       "<p>5 rows × 87 columns</p>\n",
       "</div>"
      ],
      "text/plain": [
       "           X          Y  OBJECTID permittypemapped  permitnum     workclass  \\\n",
       "1 -78.534184  35.729309     48521         Building     147288  New Building   \n",
       "2 -78.534323  35.728595     48522         Building     147287  New Building   \n",
       "3 -78.531789  35.729794     48523         Building     147286  New Building   \n",
       "4 -78.533914  35.729473     48524         Building     147284  New Building   \n",
       "9 -78.594252  35.909492     48529         Building     147194  New Building   \n",
       "\n",
       "   permitclass               proposedworkdescription permitclassmapped  \\\n",
       "1        101.0                                   SFD       Residential   \n",
       "2        101.0                                   SFD       Residential   \n",
       "3        101.0                               NEW SFD       Residential   \n",
       "4        101.0                               NEW SFD       Residential   \n",
       "9        318.0  PAVILLION NEAR POOL, GRILLS, SEATING       Residential   \n",
       "\n",
       "                applieddate         ...          totalsqft  voiddate  \\\n",
       "1  2018-03-02T15:16:37.000Z         ...             1684.0       NaN   \n",
       "2  2018-03-02T15:08:25.000Z         ...             2378.0       NaN   \n",
       "3  2018-03-02T15:00:47.000Z         ...             1392.0       NaN   \n",
       "4  2018-03-02T14:32:33.000Z         ...             1392.0       NaN   \n",
       "9  2018-02-27T21:31:37.000Z         ...              504.0       NaN   \n",
       "\n",
       "  workclassmapped                              GlobalID  \\\n",
       "1             New  f114dc19-3b62-459b-bd6c-9084162403c8   \n",
       "2             New  d4b182cb-af25-4c3f-92a9-a59d4b82ada3   \n",
       "3             New  ecc76e8c-48d3-4529-a7ae-f1d616592c08   \n",
       "4             New  a1074b43-bc40-4efa-bc7f-a167c351c327   \n",
       "9             New  39eb46ff-e7d2-4c23-95f8-71c4f67b3924   \n",
       "\n",
       "               CreationDate                         Creator  \\\n",
       "1  2018-03-16T01:55:55.663Z  justin.greco@raleighnc.gov_ral   \n",
       "2  2018-03-16T01:55:55.663Z  justin.greco@raleighnc.gov_ral   \n",
       "3  2018-03-16T01:55:55.663Z  justin.greco@raleighnc.gov_ral   \n",
       "4  2018-03-16T01:55:55.663Z  justin.greco@raleighnc.gov_ral   \n",
       "9  2018-03-16T01:55:55.663Z  justin.greco@raleighnc.gov_ral   \n",
       "\n",
       "                   EditDate        Editor const_type       occupancyclass  \n",
       "1  2018-06-12T22:02:31.949Z  OpenData_ral       V  B  RESIDENT 3  SFD/DUP  \n",
       "2  2018-06-13T22:02:40.102Z  OpenData_ral       V  B  RESIDENT 3  SFD/DUP  \n",
       "3  2018-06-27T22:02:34.320Z  OpenData_ral       V  B  RESIDENT 3  SFD/DUP  \n",
       "4  2018-06-12T22:02:31.949Z  OpenData_ral       V  B  RESIDENT 3  SFD/DUP  \n",
       "9  2018-04-23T19:46:09.547Z  OpenData_ral       V  B           ASSEMBLY 3  \n",
       "\n",
       "[5 rows x 87 columns]"
      ]
     },
     "execution_count": 20,
     "metadata": {},
     "output_type": "execute_result"
    }
   ],
   "source": [
    "df_filtered = df[(df.numberstories < 3) & (df.workclassmapped == \"New\") & (df.const_type == \"V  B\")]\n",
    "df_filtered.head()"
   ]
  },
  {
   "cell_type": "code",
   "execution_count": 21,
   "metadata": {},
   "outputs": [
    {
     "data": {
      "text/plain": [
       "(31044, 87)"
      ]
     },
     "execution_count": 21,
     "metadata": {},
     "output_type": "execute_result"
    }
   ],
   "source": [
    "df_filtered.shape"
   ]
  },
  {
   "cell_type": "markdown",
   "metadata": {},
   "source": [
    "### Now for this newly filtered dataset, we are interested in the relationship between the Issued Date Year and the Estimated Project Cost Columns"
   ]
  },
  {
   "cell_type": "markdown",
   "metadata": {},
   "source": [
    "#### Lets begin by describing our columns of interest"
   ]
  },
  {
   "cell_type": "code",
   "execution_count": 22,
   "metadata": {},
   "outputs": [
    {
     "data": {
      "text/plain": [
       "count    30851.000000\n",
       "mean      2008.365401\n",
       "std          4.604880\n",
       "min       2002.000000\n",
       "25%       2005.000000\n",
       "50%       2007.000000\n",
       "75%       2012.000000\n",
       "max       2018.000000\n",
       "Name: issueddate_yr, dtype: float64"
      ]
     },
     "execution_count": 22,
     "metadata": {},
     "output_type": "execute_result"
    }
   ],
   "source": [
    "df_filtered.issueddate_yr.describe()"
   ]
  },
  {
   "cell_type": "code",
   "execution_count": 23,
   "metadata": {},
   "outputs": [
    {
     "data": {
      "text/plain": [
       "count    3.104400e+04\n",
       "mean     2.120274e+05\n",
       "std      8.762292e+05\n",
       "min      0.000000e+00\n",
       "25%      9.834500e+04\n",
       "50%      1.500000e+05\n",
       "75%      2.562760e+05\n",
       "max      1.000000e+08\n",
       "Name: estprojectcost, dtype: float64"
      ]
     },
     "execution_count": 23,
     "metadata": {},
     "output_type": "execute_result"
    }
   ],
   "source": [
    "df_filtered.estprojectcost.describe()"
   ]
  },
  {
   "cell_type": "markdown",
   "metadata": {},
   "source": [
    "#### Next we will check for null values in these columns"
   ]
  },
  {
   "cell_type": "code",
   "execution_count": 24,
   "metadata": {},
   "outputs": [
    {
     "data": {
      "text/plain": [
       "(193, 87)"
      ]
     },
     "execution_count": 24,
     "metadata": {},
     "output_type": "execute_result"
    }
   ],
   "source": [
    "df_filtered_yr_na = df_filtered[(df_filtered.issueddate_yr.isna() == True)]\n",
    "df_filtered_yr_na.shape"
   ]
  },
  {
   "cell_type": "code",
   "execution_count": 25,
   "metadata": {},
   "outputs": [
    {
     "data": {
      "text/plain": [
       "(0, 87)"
      ]
     },
     "execution_count": 25,
     "metadata": {},
     "output_type": "execute_result"
    }
   ],
   "source": [
    "df_filtered_cost_na = df_filtered[(df_filtered.estprojectcost.isna() == True)]\n",
    "df_filtered_cost_na.shape"
   ]
  },
  {
   "cell_type": "markdown",
   "metadata": {},
   "source": [
    "#### We can see that while the issued date year column has 193 null values, the estimated project cost column has no null values. However, lets circle back to the histograms be created for the estimated project cost feature. There were many 0 values for the estimated project cost column in the original dataset. Lets look at the 0 values in the filtered dataset."
   ]
  },
  {
   "cell_type": "code",
   "execution_count": 26,
   "metadata": {},
   "outputs": [
    {
     "data": {
      "text/plain": [
       "(18, 87)"
      ]
     },
     "execution_count": 26,
     "metadata": {},
     "output_type": "execute_result"
    }
   ],
   "source": [
    "df_filtered_cost_0 = df_filtered[(df_filtered.estprojectcost == 0)]\n",
    "df_filtered_cost_0.shape"
   ]
  },
  {
   "cell_type": "markdown",
   "metadata": {},
   "source": [
    "#### In our filtered dataset the estimated project cost column has 18 rows with a value of 0. Let's check the issued date year column for these rows."
   ]
  },
  {
   "cell_type": "code",
   "execution_count": 27,
   "metadata": {},
   "outputs": [
    {
     "data": {
      "text/plain": [
       "1223         NaN\n",
       "2800         NaN\n",
       "6810         NaN\n",
       "132323       NaN\n",
       "133517       NaN\n",
       "133731       NaN\n",
       "136022       NaN\n",
       "138124       NaN\n",
       "138185       NaN\n",
       "138222       NaN\n",
       "138272       NaN\n",
       "138383       NaN\n",
       "138498       NaN\n",
       "138690       NaN\n",
       "138694       NaN\n",
       "141292       NaN\n",
       "141522    2018.0\n",
       "141922       NaN\n",
       "Name: issueddate_yr, dtype: float64"
      ]
     },
     "execution_count": 27,
     "metadata": {},
     "output_type": "execute_result"
    }
   ],
   "source": [
    "df_filtered_cost_0.issueddate_yr"
   ]
  },
  {
   "cell_type": "markdown",
   "metadata": {},
   "source": [
    "#### Only 1/18 rows have a not null value for the issued date year column. Since we want to understand the realtionship between the Issued Date Year and Estimated Project Cost features and the above rows are null or 0 for both these features, I am going to go ahead and drop these rows since they will not be useful in establishing a relationship."
   ]
  },
  {
   "cell_type": "code",
   "execution_count": 28,
   "metadata": {},
   "outputs": [
    {
     "data": {
      "text/plain": [
       "(31026, 87)"
      ]
     },
     "execution_count": 28,
     "metadata": {},
     "output_type": "execute_result"
    }
   ],
   "source": [
    "df_filtered = df_filtered[(df_filtered.estprojectcost != 0)]\n",
    "df_filtered.shape"
   ]
  },
  {
   "cell_type": "markdown",
   "metadata": {},
   "source": [
    "#### Next we decide how to impute missing value for the Issued date year column. As observed earlier, 193 rows had null values for this column. Out of those, we have already dropped 17 leaving us with 176 rows with null values for this column. Generally, missing values are imputed using either the mean or median values for a column. Considering that years is a categorical value, I did not think I would be a good idea to do so. My next thought was to check the issued date column to do some feature engineering and impute the null values for the issued year from there."
   ]
  },
  {
   "cell_type": "code",
   "execution_count": 29,
   "metadata": {},
   "outputs": [
    {
     "data": {
      "text/plain": [
       "array([nan], dtype=object)"
      ]
     },
     "execution_count": 29,
     "metadata": {},
     "output_type": "execute_result"
    }
   ],
   "source": [
    "df_filtered_yr_na.issueddate.unique()"
   ]
  },
  {
   "cell_type": "markdown",
   "metadata": {},
   "source": [
    "#### Unfortunately, the issueddate column values are also null for those rows. So I decided to go ahead and drop these rows."
   ]
  },
  {
   "cell_type": "code",
   "execution_count": 30,
   "metadata": {},
   "outputs": [
    {
     "data": {
      "text/plain": [
       "(30850, 87)"
      ]
     },
     "execution_count": 30,
     "metadata": {},
     "output_type": "execute_result"
    }
   ],
   "source": [
    "df_no_null = df_filtered[(df_filtered.issueddate_yr.isna()==False)]\n",
    "df_no_null.shape"
   ]
  },
  {
   "cell_type": "markdown",
   "metadata": {},
   "source": [
    "#### I begin analysing the relationship between the two variables with  a paired regression plot"
   ]
  },
  {
   "cell_type": "code",
   "execution_count": 31,
   "metadata": {},
   "outputs": [
    {
     "data": {
      "text/plain": [
       "<seaborn.axisgrid.PairGrid at 0x7f52258380b8>"
      ]
     },
     "execution_count": 31,
     "metadata": {},
     "output_type": "execute_result"
    },
    {
     "data": {
      "image/png": "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\n",
      "text/plain": [
       "<Figure size 352.8x504 with 1 Axes>"
      ]
     },
     "metadata": {
      "needs_background": "light"
     },
     "output_type": "display_data"
    }
   ],
   "source": [
    "sns.pairplot(df_no_null, x_vars=['issueddate_yr'], y_vars='estprojectcost', size=7, aspect=0.7, kind = 'reg')"
   ]
  },
  {
   "cell_type": "markdown",
   "metadata": {},
   "source": [
    "#### Out of curiosity, I googled the construction type 'V B' and learned that it was for single family homes with wooden frames. Finding this piece of information to interesting, I then proceeded to limit the Estimated Project Cost Variable to less than 4 Million to get a detailed idea of its relationship with the Issued Date Year variable"
   ]
  },
  {
   "cell_type": "code",
   "execution_count": 32,
   "metadata": {},
   "outputs": [],
   "source": [
    "df_limited = df_filtered[df_filtered.estprojectcost < 4000000]"
   ]
  },
  {
   "cell_type": "code",
   "execution_count": 33,
   "metadata": {},
   "outputs": [
    {
     "data": {
      "text/plain": [
       "<seaborn.axisgrid.PairGrid at 0x7f5223676470>"
      ]
     },
     "execution_count": 33,
     "metadata": {},
     "output_type": "execute_result"
    },
    {
     "data": {
      "image/png": "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\n",
      "text/plain": [
       "<Figure size 352.8x504 with 1 Axes>"
      ]
     },
     "metadata": {
      "needs_background": "light"
     },
     "output_type": "display_data"
    }
   ],
   "source": [
    "sns.pairplot(df_limited, x_vars=['issueddate_yr'], y_vars='estprojectcost', size=7, aspect=0.7, kind = 'reg')"
   ]
  },
  {
   "cell_type": "markdown",
   "metadata": {},
   "source": [
    "#### From the above plot, I came to the following conclusions:\n",
    "#### 1. Most of the single family homes have an estimated project cost of upto 500K and there are fewere estimated costs above 1M.\n",
    "#### 2. Permits for houses with an estimated cost of above 1M were issued more regularly 2006 onwards\n",
    "#### 3. Maximum permits were granted for projects estimated above 1M in 2008. I found this interesting because of the resccesion of 2008. Did people have that kind of money in 2008? I decided to look at the esitmated project costs for the year 2008 in more detail"
   ]
  },
  {
   "cell_type": "code",
   "execution_count": 34,
   "metadata": {},
   "outputs": [],
   "source": [
    "df_2008 = df_filtered[df_filtered.issueddate_yr == 2008]"
   ]
  },
  {
   "cell_type": "code",
   "execution_count": 35,
   "metadata": {},
   "outputs": [
    {
     "data": {
      "text/plain": [
       "<seaborn.axisgrid.PairGrid at 0x7f52256b5ac8>"
      ]
     },
     "execution_count": 35,
     "metadata": {},
     "output_type": "execute_result"
    },
    {
     "data": {
      "image/png": "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\n",
      "text/plain": [
       "<Figure size 352.8x504 with 1 Axes>"
      ]
     },
     "metadata": {
      "needs_background": "light"
     },
     "output_type": "display_data"
    }
   ],
   "source": [
    "# I will run a paired regression plot between estimated project cost and issueddate mth since the year is going to be 2008\n",
    "sns.pairplot(df_2008, x_vars=['issueddate_mth'], y_vars='estprojectcost', size=7, aspect=0.7, kind = 'reg')"
   ]
  },
  {
   "cell_type": "markdown",
   "metadata": {},
   "source": [
    "#### Again we can see some outliers, so  lets limit the dataset as we did earlier and the create a plot"
   ]
  },
  {
   "cell_type": "code",
   "execution_count": 36,
   "metadata": {},
   "outputs": [
    {
     "data": {
      "text/plain": [
       "<seaborn.axisgrid.PairGrid at 0x7f52235e82b0>"
      ]
     },
     "execution_count": 36,
     "metadata": {},
     "output_type": "execute_result"
    },
    {
     "data": {
      "image/png": "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\n",
      "text/plain": [
       "<Figure size 352.8x504 with 1 Axes>"
      ]
     },
     "metadata": {
      "needs_background": "light"
     },
     "output_type": "display_data"
    }
   ],
   "source": [
    "df_limited_2008 = df_2008[df_2008.estprojectcost < 4000000]\n",
    "sns.pairplot(df_limited_2008, x_vars=['issueddate_mth'], y_vars='estprojectcost', size=7, aspect=0.7, kind = 'reg')"
   ]
  },
  {
   "cell_type": "markdown",
   "metadata": {},
   "source": [
    "#### From the above plot, it seems like people kept building houses all through 2008 - right through the great recession"
   ]
  },
  {
   "cell_type": "markdown",
   "metadata": {},
   "source": [
    "### Linear Regression"
   ]
  },
  {
   "cell_type": "markdown",
   "metadata": {},
   "source": [
    "#### While the above plots visually explain the realtionship between the two variables, for success metrics, I will begin by running a linear regression. "
   ]
  },
  {
   "cell_type": "code",
   "execution_count": 37,
   "metadata": {},
   "outputs": [
    {
     "name": "stdout",
     "output_type": "stream",
     "text": [
      "The regression intercept is: -24785847.7335\n",
      "The regression coefficient is: [ 12445.196861]\n"
     ]
    }
   ],
   "source": [
    "### SCIKIT-LEARN ###\n",
    "# create X and y\n",
    "feature_cols = ['issueddate_yr']\n",
    "X = df_no_null[feature_cols]\n",
    "y = df_no_null.estprojectcost\n",
    "\n",
    "# instantiate and fit\n",
    "lm = LinearRegression()\n",
    "lm.fit(X,y)\n",
    "\n",
    "# print the coefficients\n",
    "print(\"The regression intercept is: \"+ str(lm.intercept_))\n",
    "print(\"The regression coefficient is: \"+ str(lm.coef_))"
   ]
  },
  {
   "cell_type": "code",
   "execution_count": 38,
   "metadata": {},
   "outputs": [
    {
     "name": "stdout",
     "output_type": "stream",
     "text": [
      "The mean absolute error for the linear regression model is: 105795.616638\n"
     ]
    }
   ],
   "source": [
    "y_pred = lm.predict(X)\n",
    "y_true = df_no_null.estprojectcost\n",
    "mae = mean_absolute_error(y_true, y_pred)\n",
    "print(\"The mean absolute error for the linear regression model is: \" + str(mae))"
   ]
  },
  {
   "cell_type": "code",
   "execution_count": 39,
   "metadata": {},
   "outputs": [
    {
     "name": "stdout",
     "output_type": "stream",
     "text": [
      "The mean squared error for the linear regression model is: 682166512211.0\n"
     ]
    }
   ],
   "source": [
    "mse = mean_squared_error(y_true, y_pred)\n",
    "print(\"The mean squared error for the linear regression model is: \" + str(mse))"
   ]
  },
  {
   "cell_type": "code",
   "execution_count": 40,
   "metadata": {},
   "outputs": [
    {
     "name": "stdout",
     "output_type": "stream",
     "text": [
      "The r-squared error for the linear regression model is: 0.00479073989308\n"
     ]
    }
   ],
   "source": [
    "r2 = r2_score(y_true, y_pred)\n",
    "print(\"The r-squared error for the linear regression model is: \" + str(r2))"
   ]
  },
  {
   "cell_type": "markdown",
   "metadata": {},
   "source": [
    "#### From the above success metrics, we can see:\n",
    "#### 1. The mean squared error is pretty big. This is due to the variance in the estimated cost of single family homes. \n",
    "#### 2. The r-squared error shows that the Issued Date Year Variable doesnot influence the Esitmated Project Cost variable significantly, even though the estinmated project cost has increased as the years go by.\n",
    "#### 3. The metrics tell us that this is not the best model and can certainly be improved. We can do this by creating regression models for each quartile of the esitmated project cost variable against the issued date year variable. This might give us better success metrics for each individual model."
   ]
  }
 ],
 "metadata": {
  "kernelspec": {
   "display_name": "Python 3 [ analysis-preview-py3 ]",
   "language": "python",
   "name": "analysis-preview-py3-latest"
  },
  "language_info": {
   "codemirror_mode": {
    "name": "ipython",
    "version": 3
   },
   "file_extension": ".py",
   "mimetype": "text/x-python",
   "name": "python",
   "nbconvert_exporter": "python",
   "pygments_lexer": "ipython3",
   "version": "3.6.6"
  }
 },
 "nbformat": 4,
 "nbformat_minor": 2
}
